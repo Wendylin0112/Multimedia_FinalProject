{
  "cells": [
    {
      "cell_type": "markdown",
      "metadata": {
        "id": "view-in-github",
        "colab_type": "text"
      },
      "source": [
        "<a href=\"https://colab.research.google.com/github/Wendylin0112/Multimedia_Final_Project/blob/main/Multimedia_FN.ipynb\" target=\"_parent\"><img src=\"https://colab.research.google.com/assets/colab-badge.svg\" alt=\"Open In Colab\"/></a>"
      ]
    },
    {
      "cell_type": "markdown",
      "metadata": {
        "id": "s23xKbNG6V2F"
      },
      "source": [
        "## 1.音訊處理與分類"
      ]
    },
    {
      "cell_type": "code",
      "source": [
        "# 安裝必要的程式庫（如果未安裝）\n",
        "!pip install librosa tensorflow tensorflow_hub pandas tensorflow_io"
      ],
      "metadata": {
        "id": "cL12NpMrA8G7",
        "colab": {
          "base_uri": "https://localhost:8080/"
        },
        "outputId": "33ffc6e4-4114-4102-a61e-7eebadb048d8"
      },
      "execution_count": null,
      "outputs": [
        {
          "output_type": "stream",
          "name": "stdout",
          "text": [
            "Requirement already satisfied: librosa in /usr/local/lib/python3.10/dist-packages (0.10.2.post1)\n",
            "Requirement already satisfied: tensorflow in /usr/local/lib/python3.10/dist-packages (2.17.1)\n",
            "Requirement already satisfied: tensorflow_hub in /usr/local/lib/python3.10/dist-packages (0.16.1)\n",
            "Requirement already satisfied: pandas in /usr/local/lib/python3.10/dist-packages (2.2.2)\n",
            "Collecting tensorflow_io\n",
            "  Downloading tensorflow_io-0.37.1-cp310-cp310-manylinux_2_17_x86_64.manylinux2014_x86_64.whl.metadata (14 kB)\n",
            "Requirement already satisfied: audioread>=2.1.9 in /usr/local/lib/python3.10/dist-packages (from librosa) (3.0.1)\n",
            "Requirement already satisfied: numpy!=1.22.0,!=1.22.1,!=1.22.2,>=1.20.3 in /usr/local/lib/python3.10/dist-packages (from librosa) (1.26.4)\n",
            "Requirement already satisfied: scipy>=1.2.0 in /usr/local/lib/python3.10/dist-packages (from librosa) (1.13.1)\n",
            "Requirement already satisfied: scikit-learn>=0.20.0 in /usr/local/lib/python3.10/dist-packages (from librosa) (1.6.0)\n",
            "Requirement already satisfied: joblib>=0.14 in /usr/local/lib/python3.10/dist-packages (from librosa) (1.4.2)\n",
            "Requirement already satisfied: decorator>=4.3.0 in /usr/local/lib/python3.10/dist-packages (from librosa) (4.4.2)\n",
            "Requirement already satisfied: numba>=0.51.0 in /usr/local/lib/python3.10/dist-packages (from librosa) (0.60.0)\n",
            "Requirement already satisfied: soundfile>=0.12.1 in /usr/local/lib/python3.10/dist-packages (from librosa) (0.12.1)\n",
            "Requirement already satisfied: pooch>=1.1 in /usr/local/lib/python3.10/dist-packages (from librosa) (1.8.2)\n",
            "Requirement already satisfied: soxr>=0.3.2 in /usr/local/lib/python3.10/dist-packages (from librosa) (0.5.0.post1)\n",
            "Requirement already satisfied: typing-extensions>=4.1.1 in /usr/local/lib/python3.10/dist-packages (from librosa) (4.12.2)\n",
            "Requirement already satisfied: lazy-loader>=0.1 in /usr/local/lib/python3.10/dist-packages (from librosa) (0.4)\n",
            "Requirement already satisfied: msgpack>=1.0 in /usr/local/lib/python3.10/dist-packages (from librosa) (1.1.0)\n",
            "Requirement already satisfied: absl-py>=1.0.0 in /usr/local/lib/python3.10/dist-packages (from tensorflow) (1.4.0)\n",
            "Requirement already satisfied: astunparse>=1.6.0 in /usr/local/lib/python3.10/dist-packages (from tensorflow) (1.6.3)\n",
            "Requirement already satisfied: flatbuffers>=24.3.25 in /usr/local/lib/python3.10/dist-packages (from tensorflow) (24.3.25)\n",
            "Requirement already satisfied: gast!=0.5.0,!=0.5.1,!=0.5.2,>=0.2.1 in /usr/local/lib/python3.10/dist-packages (from tensorflow) (0.6.0)\n",
            "Requirement already satisfied: google-pasta>=0.1.1 in /usr/local/lib/python3.10/dist-packages (from tensorflow) (0.2.0)\n",
            "Requirement already satisfied: h5py>=3.10.0 in /usr/local/lib/python3.10/dist-packages (from tensorflow) (3.12.1)\n",
            "Requirement already satisfied: libclang>=13.0.0 in /usr/local/lib/python3.10/dist-packages (from tensorflow) (18.1.1)\n",
            "Requirement already satisfied: ml-dtypes<0.5.0,>=0.3.1 in /usr/local/lib/python3.10/dist-packages (from tensorflow) (0.4.1)\n",
            "Requirement already satisfied: opt-einsum>=2.3.2 in /usr/local/lib/python3.10/dist-packages (from tensorflow) (3.4.0)\n",
            "Requirement already satisfied: packaging in /usr/local/lib/python3.10/dist-packages (from tensorflow) (24.2)\n",
            "Requirement already satisfied: protobuf!=4.21.0,!=4.21.1,!=4.21.2,!=4.21.3,!=4.21.4,!=4.21.5,<5.0.0dev,>=3.20.3 in /usr/local/lib/python3.10/dist-packages (from tensorflow) (4.25.5)\n",
            "Requirement already satisfied: requests<3,>=2.21.0 in /usr/local/lib/python3.10/dist-packages (from tensorflow) (2.32.3)\n",
            "Requirement already satisfied: setuptools in /usr/local/lib/python3.10/dist-packages (from tensorflow) (75.1.0)\n",
            "Requirement already satisfied: six>=1.12.0 in /usr/local/lib/python3.10/dist-packages (from tensorflow) (1.17.0)\n",
            "Requirement already satisfied: termcolor>=1.1.0 in /usr/local/lib/python3.10/dist-packages (from tensorflow) (2.5.0)\n",
            "Requirement already satisfied: wrapt>=1.11.0 in /usr/local/lib/python3.10/dist-packages (from tensorflow) (1.17.0)\n",
            "Requirement already satisfied: grpcio<2.0,>=1.24.3 in /usr/local/lib/python3.10/dist-packages (from tensorflow) (1.68.1)\n",
            "Requirement already satisfied: tensorboard<2.18,>=2.17 in /usr/local/lib/python3.10/dist-packages (from tensorflow) (2.17.1)\n",
            "Requirement already satisfied: keras>=3.2.0 in /usr/local/lib/python3.10/dist-packages (from tensorflow) (3.5.0)\n",
            "Requirement already satisfied: tensorflow-io-gcs-filesystem>=0.23.1 in /usr/local/lib/python3.10/dist-packages (from tensorflow) (0.37.1)\n",
            "Requirement already satisfied: tf-keras>=2.14.1 in /usr/local/lib/python3.10/dist-packages (from tensorflow_hub) (2.17.0)\n",
            "Requirement already satisfied: python-dateutil>=2.8.2 in /usr/local/lib/python3.10/dist-packages (from pandas) (2.8.2)\n",
            "Requirement already satisfied: pytz>=2020.1 in /usr/local/lib/python3.10/dist-packages (from pandas) (2024.2)\n",
            "Requirement already satisfied: tzdata>=2022.7 in /usr/local/lib/python3.10/dist-packages (from pandas) (2024.2)\n",
            "Requirement already satisfied: wheel<1.0,>=0.23.0 in /usr/local/lib/python3.10/dist-packages (from astunparse>=1.6.0->tensorflow) (0.45.1)\n",
            "Requirement already satisfied: rich in /usr/local/lib/python3.10/dist-packages (from keras>=3.2.0->tensorflow) (13.9.4)\n",
            "Requirement already satisfied: namex in /usr/local/lib/python3.10/dist-packages (from keras>=3.2.0->tensorflow) (0.0.8)\n",
            "Requirement already satisfied: optree in /usr/local/lib/python3.10/dist-packages (from keras>=3.2.0->tensorflow) (0.13.1)\n",
            "Requirement already satisfied: llvmlite<0.44,>=0.43.0dev0 in /usr/local/lib/python3.10/dist-packages (from numba>=0.51.0->librosa) (0.43.0)\n",
            "Requirement already satisfied: platformdirs>=2.5.0 in /usr/local/lib/python3.10/dist-packages (from pooch>=1.1->librosa) (4.3.6)\n",
            "Requirement already satisfied: charset-normalizer<4,>=2 in /usr/local/lib/python3.10/dist-packages (from requests<3,>=2.21.0->tensorflow) (3.4.0)\n",
            "Requirement already satisfied: idna<4,>=2.5 in /usr/local/lib/python3.10/dist-packages (from requests<3,>=2.21.0->tensorflow) (3.10)\n",
            "Requirement already satisfied: urllib3<3,>=1.21.1 in /usr/local/lib/python3.10/dist-packages (from requests<3,>=2.21.0->tensorflow) (2.2.3)\n",
            "Requirement already satisfied: certifi>=2017.4.17 in /usr/local/lib/python3.10/dist-packages (from requests<3,>=2.21.0->tensorflow) (2024.12.14)\n",
            "Requirement already satisfied: threadpoolctl>=3.1.0 in /usr/local/lib/python3.10/dist-packages (from scikit-learn>=0.20.0->librosa) (3.5.0)\n",
            "Requirement already satisfied: cffi>=1.0 in /usr/local/lib/python3.10/dist-packages (from soundfile>=0.12.1->librosa) (1.17.1)\n",
            "Requirement already satisfied: markdown>=2.6.8 in /usr/local/lib/python3.10/dist-packages (from tensorboard<2.18,>=2.17->tensorflow) (3.7)\n",
            "Requirement already satisfied: tensorboard-data-server<0.8.0,>=0.7.0 in /usr/local/lib/python3.10/dist-packages (from tensorboard<2.18,>=2.17->tensorflow) (0.7.2)\n",
            "Requirement already satisfied: werkzeug>=1.0.1 in /usr/local/lib/python3.10/dist-packages (from tensorboard<2.18,>=2.17->tensorflow) (3.1.3)\n",
            "Requirement already satisfied: pycparser in /usr/local/lib/python3.10/dist-packages (from cffi>=1.0->soundfile>=0.12.1->librosa) (2.22)\n",
            "Requirement already satisfied: MarkupSafe>=2.1.1 in /usr/local/lib/python3.10/dist-packages (from werkzeug>=1.0.1->tensorboard<2.18,>=2.17->tensorflow) (3.0.2)\n",
            "Requirement already satisfied: markdown-it-py>=2.2.0 in /usr/local/lib/python3.10/dist-packages (from rich->keras>=3.2.0->tensorflow) (3.0.0)\n",
            "Requirement already satisfied: pygments<3.0.0,>=2.13.0 in /usr/local/lib/python3.10/dist-packages (from rich->keras>=3.2.0->tensorflow) (2.18.0)\n",
            "Requirement already satisfied: mdurl~=0.1 in /usr/local/lib/python3.10/dist-packages (from markdown-it-py>=2.2.0->rich->keras>=3.2.0->tensorflow) (0.1.2)\n",
            "Downloading tensorflow_io-0.37.1-cp310-cp310-manylinux_2_17_x86_64.manylinux2014_x86_64.whl (49.6 MB)\n",
            "\u001b[2K   \u001b[90m━━━━━━━━━━━━━━━━━━━━━━━━━━━━━━━━━━━━━━━━\u001b[0m \u001b[32m49.6/49.6 MB\u001b[0m \u001b[31m7.5 MB/s\u001b[0m eta \u001b[36m0:00:00\u001b[0m\n",
            "\u001b[?25hInstalling collected packages: tensorflow_io\n",
            "Successfully installed tensorflow_io-0.37.1\n"
          ]
        }
      ]
    },
    {
      "cell_type": "code",
      "source": [
        "import librosa\n",
        "import tensorflow_hub as hub\n",
        "import tensorflow as tf\n",
        "import pandas as pd\n",
        "import numpy as np\n",
        "import os\n",
        "import json\n",
        "\n",
        "# 掛載 Google Drive\n",
        "from google.colab import drive\n",
        "drive.mount('/content/drive')\n",
        "\n",
        "# 加載 YAMNet 模型\n",
        "model = hub.load('https://tfhub.dev/google/yamnet/1')\n",
        "\n",
        "# 動態篩選類別索引\n",
        "class_map_path = model.class_map_path().numpy().decode('utf-8')\n",
        "class_map = pd.read_csv(class_map_path)\n",
        "\n",
        "# 篩選包含 \"Rain\", \"Ocean\", \"Stream\", \"Train\", \"Rain on surface\", \"Writing\",\"Insect\"的類別\n",
        "keywords = [\"Rain\", \"Ocean\", \"Stream\",\"Train\", \"Writing\", \"Insect\"]\n",
        "filtered_classes = class_map[class_map['display_name'].str.contains('|'.join(keywords), case=False)]\n",
        "\n",
        "# 提取篩選結果\n",
        "selected_indices = filtered_classes['index'].tolist()\n",
        "class_names = filtered_classes['display_name'].tolist()\n",
        "detailed_labels = {\n",
        "    \"Rain\": \"雨聲\",\n",
        "    \"Ocean\": \"海洋聲\",\n",
        "    \"Stream\": \"溪流聲\",\n",
        "    \"Train\": \"火車聲\",\n",
        "    \"Writing\": \"寫字聲\",\n",
        "    \"Insect\": \"昆蟲鳴聲\"\n",
        "}\n",
        "\n",
        "print(f\"Selected indices: {selected_indices}\")\n",
        "print(f\"Class names: {class_names}\")\n",
        "\n",
        "def classify_audio(audio_file):\n",
        "    \"\"\"\n",
        "    使用 YAMNet 模型對單個音檔進行分類\n",
        "    \"\"\"\n",
        "    try:\n",
        "        # 加載音檔並重採樣到 16kHz\n",
        "        waveform, _ = librosa.load(audio_file, sr=16000)\n",
        "\n",
        "        # 使用 YAMNet 進行分類\n",
        "        scores, _, _ = model(waveform)\n",
        "        scores_np = scores.numpy()\n",
        "\n",
        "        # 檢查模型輸出\n",
        "        if scores_np.ndim == 0 or scores_np.size == 0:\n",
        "            raise ValueError(f\"模型未返回有效的分類分數，音檔路徑: {audio_file}\")\n",
        "\n",
        "        # 過濾選定類別的分數\n",
        "        filtered_scores = scores_np[:, selected_indices]\n",
        "        mean_scores = filtered_scores.mean(axis=0)\n",
        "\n",
        "        # 獲取分類索引\n",
        "        base_label = class_names[np.argmax(mean_scores)]\n",
        "\n",
        "        # 返回對應的中文標籤\n",
        "        return detailed_labels[base_label]\n",
        "    except Exception as e:\n",
        "        print(f\"Error processing file {audio_file}: {e}\")\n",
        "        return \"分類失敗\"\n",
        "\n",
        "def classify_audio_folder(folder_path):\n",
        "    \"\"\"\n",
        "    對資料夾中的所有音檔進行分類\n",
        "    \"\"\"\n",
        "    try:\n",
        "        # 獲取所有音檔\n",
        "        audio_files = [os.path.join(folder_path, f) for f in os.listdir(folder_path) if f.endswith('.wav')]\n",
        "\n",
        "        # 存儲分類結果\n",
        "        results = {}\n",
        "        for file in audio_files:\n",
        "            label = classify_audio(file)\n",
        "            results[file] = label\n",
        "            print(f\"File: {file} -> Label: {label}\")\n",
        "\n",
        "        return results\n",
        "    except Exception as e:\n",
        "        print(f\"Error processing folder {folder_path}: {e}\")\n",
        "        return {}\n",
        "\n",
        "# 測試 voice 資料夾中的所有音檔\n",
        "audio_folder = '/content/drive/My Drive/多媒體_期末報告/test_audio/'\n",
        "results = classify_audio_folder(audio_folder)\n",
        "\n",
        "# 打印分類結果\n",
        "print(\"\\n分類結果：\")\n",
        "for file, label in results.items():\n",
        "    print(f\"{file}: {label}\")"
      ],
      "metadata": {
        "id": "RF2U_U7gA-78",
        "colab": {
          "base_uri": "https://localhost:8080/"
        },
        "outputId": "d8251784-9329-44b3-d85f-d473dad0a6a9"
      },
      "execution_count": null,
      "outputs": [
        {
          "output_type": "stream",
          "name": "stdout",
          "text": [
            "Mounted at /content/drive\n",
            "Selected indices: [121, 283, 284, 285, 286, 288, 323, 324, 325, 326, 327, 381]\n",
            "Class names: ['Insect', 'Rain', 'Raindrop', 'Rain on surface', 'Stream', 'Ocean', 'Train', 'Train whistle', 'Train horn', 'Railroad car, train wagon', 'Train wheels squealing', 'Writing']\n",
            "File: /content/drive/My Drive/多媒體_期末報告/test_audio/溪流1.wav -> Label: 溪流聲\n",
            "\n",
            "分類結果：\n",
            "/content/drive/My Drive/多媒體_期末報告/test_audio/溪流1.wav: 溪流聲\n"
          ]
        }
      ]
    },
    {
      "cell_type": "markdown",
      "metadata": {
        "id": "ciMgkwFf6rsD"
      },
      "source": [
        "## 2.生成對應的文本"
      ]
    },
    {
      "cell_type": "markdown",
      "metadata": {
        "id": "Ivo8Shak7D22"
      },
      "source": [
        "1. **下雨（大雨）**\n",
        "背景：城市街道。\n",
        "聚焦生成：大雨的雨滴，使用刮畫法，雨滴落下的軌跡非常明顯。砸在地上、屋簷上會濺起小水花。\n",
        "天空顏色為淺灰色。\n",
        "只有下雨部分為動態，其餘皆保持靜態。\n",
        "\n",
        "2. **溪流**\n",
        "背景：靜謐的森林，溪流中有石頭。\n",
        "必須生成：潺潺流水。\n",
        "可隨機生成（也可無）：石頭上的青苔、溪水中的樹葉。\n",
        "只有潺潺流水須為動態，其他皆為靜態。\n",
        "\n",
        "3. **海浪**\n",
        "背景：夜晚海邊的沙灘。\n",
        "聚焦：翻騰的海浪。\n",
        "可隨機生成（也可無）：沙灘上海星、天上繁星、沙灘上有腳印及城堡。\n",
        "影片只需讓聚焦部分動態化，其他皆保持靜態。\n",
        "\n",
        "4. **火車**\n",
        "背景: 室內月台，黃光壁燈，月台椅子\n",
        "聚焦: 行駛中火車。\n",
        "影片只須讓聚焦部分動態化，其他皆保持靜態。\n",
        "\n",
        "5. **writing**\n",
        "背景: 圖書館，第一視角寫字，桌上有書，手握著筆正在寫字。\n",
        "聚焦: 手中的筆。\n",
        "影片只須讓聚焦部分動態化，其他皆保持靜態。\n",
        "\n",
        "6. **chirping**\n",
        "背景：靜謐的森林，有少許陽光從樹葉間隙射入\n",
        "必須生成：小昆蟲（正在進行跳、飛等動作）、小鳥（正在飛）。\n",
        "可隨機生成（也可無）：兔子、狐狸、小鹿、浣熊、松鼠（靜態、動態皆可）\n",
        "影片只需讓出現的生物動態化，其他皆保持靜態"
      ]
    },
    {
      "cell_type": "markdown",
      "metadata": {
        "id": "yIYKHb8b8OZG"
      },
      "source": [
        "1. **Rain** City street is heavily raining with obvious rainfalls and small splashes when hits the ground. Sky is light gray. Only the rainfalls should be dynamic,else remains static.\n",
        "\n",
        "2. **Stream** A stream containing rocks in the forest. Randomly creates moss on the rocks, leaves in the stream. Gently flowing water has to be dynamic, else remains static.\n",
        "\n",
        "3. **Waves** A nighttime beach with rolling waves. Randomly creates small starfish on the beach, stars in the sky, footprints on the beach. Only the waves dynamic,else remains static.\n",
        "\n",
        "4. **Train** Indoor platform with yellow-lit wall lamps and platform benches. A train is passing through the platform. Only the train is moving, else remains static.\n",
        "\n",
        "5. **Writing** First-person perspective. I'm at a library. A book is lying on the desk, and I'm writing with a pen holding in my hands. Only the pen is moving ,else remains static.\n",
        "\n",
        "6. **Insects** Small insects and birds are active in a forest with a few sunbeams filtering through the leaves. Randomly create lively rabbits, foxes, deer, raccoons, squirrels in the forest. Only the creatures are dynamic, else remains static."
      ]
    },
    {
      "cell_type": "markdown",
      "source": [
        "### 2-5. 將分類連結對應的prompt\n"
      ],
      "metadata": {
        "id": "EfmeVjA0EYk8"
      }
    },
    {
      "source": [
        "for file, label in results.items():\n",
        "    if label == \"雨聲\":\n",
        "        prompt = \"City street is heavily raining with obvious rainfalls and small splashes when hits the ground. Sky is light gray. Only the rainfalls should be dynamic,else remains static.\"\n",
        "    elif label == \"溪流聲\":\n",
        "        prompt = \"A stream containing rocks in the forest. Randomly creates moss on the rocks, leaves in the stream. Gently flowing water has to be dynamic, else remains static.\"\n",
        "    elif label == \"海洋聲\":\n",
        "        prompt = \"A nighttime beach with rolling waves. Randomly creates small starfish on the beach, stars in the sky, footprints on the beach. Only the waves dynamic,else remains static.\"\n",
        "    elif label == \"火車聲\":\n",
        "        prompt = \"Indoor platform with yellow-lit wall lamps and platform benches. A train is passing through the platform. Only the train is moving, else remains static.\"\n",
        "    elif label == \"寫字聲\":\n",
        "        prompt = \"First-person perspective. I'm at a library. A book is lying on the desk, and I'm writing with a pen holding in my hands. Only the pen is moving ,else remains static.\"\n",
        "    else:\n",
        "        prompt = \"Small insects and birds are active in a forest with a few sunbeams filtering through the leaves. Randomly create lively rabbits, foxes, deer, raccoons, squirrels in the forest. Only the creatures are dynamic, else remains static.\"\n",
        "    print(f\"File: {file}, Label: {label}, Prompt: {prompt}\") # Added print statement to verify that this code works correctly"
      ],
      "cell_type": "code",
      "metadata": {
        "id": "USqAR7wjKrHS",
        "colab": {
          "base_uri": "https://localhost:8080/"
        },
        "outputId": "bb042136-fb88-491f-daf6-568c8f5c86e5"
      },
      "execution_count": null,
      "outputs": [
        {
          "output_type": "stream",
          "name": "stdout",
          "text": [
            "File: /content/drive/My Drive/多媒體_期末報告/test_audio/溪流1.wav, Label: 溪流聲, Prompt: A stream containing rocks in the forest. Randomly creates moss on the rocks, leaves in the stream. Gently flowing water has to be dynamic, else remains static.\n"
          ]
        }
      ]
    },
    {
      "cell_type": "markdown",
      "metadata": {
        "id": "FgNWEFXC7lk4"
      },
      "source": [
        "## 3.根據文本產生對應的影片"
      ]
    },
    {
      "cell_type": "code",
      "execution_count": null,
      "metadata": {
        "id": "AT9MxEqNI6aB",
        "colab": {
          "base_uri": "https://localhost:8080/"
        },
        "outputId": "a452032a-68ee-4a54-f7bd-e704b58227d9"
      },
      "outputs": [
        {
          "output_type": "stream",
          "name": "stdout",
          "text": [
            "Requirement already satisfied: diffusers in /usr/local/lib/python3.10/dist-packages (0.31.0)\n",
            "Requirement already satisfied: transformers in /usr/local/lib/python3.10/dist-packages (4.47.1)\n",
            "Requirement already satisfied: accelerate in /usr/local/lib/python3.10/dist-packages (1.2.1)\n",
            "Requirement already satisfied: importlib-metadata in /usr/local/lib/python3.10/dist-packages (from diffusers) (8.5.0)\n",
            "Requirement already satisfied: filelock in /usr/local/lib/python3.10/dist-packages (from diffusers) (3.16.1)\n",
            "Requirement already satisfied: huggingface-hub>=0.23.2 in /usr/local/lib/python3.10/dist-packages (from diffusers) (0.27.0)\n",
            "Requirement already satisfied: numpy in /usr/local/lib/python3.10/dist-packages (from diffusers) (1.26.4)\n",
            "Requirement already satisfied: regex!=2019.12.17 in /usr/local/lib/python3.10/dist-packages (from diffusers) (2024.11.6)\n",
            "Requirement already satisfied: requests in /usr/local/lib/python3.10/dist-packages (from diffusers) (2.32.3)\n",
            "Requirement already satisfied: safetensors>=0.3.1 in /usr/local/lib/python3.10/dist-packages (from diffusers) (0.4.5)\n",
            "Requirement already satisfied: Pillow in /usr/local/lib/python3.10/dist-packages (from diffusers) (11.0.0)\n",
            "Requirement already satisfied: packaging>=20.0 in /usr/local/lib/python3.10/dist-packages (from transformers) (24.2)\n",
            "Requirement already satisfied: pyyaml>=5.1 in /usr/local/lib/python3.10/dist-packages (from transformers) (6.0.2)\n",
            "Requirement already satisfied: tokenizers<0.22,>=0.21 in /usr/local/lib/python3.10/dist-packages (from transformers) (0.21.0)\n",
            "Requirement already satisfied: tqdm>=4.27 in /usr/local/lib/python3.10/dist-packages (from transformers) (4.67.1)\n",
            "Requirement already satisfied: psutil in /usr/local/lib/python3.10/dist-packages (from accelerate) (5.9.5)\n",
            "Requirement already satisfied: torch>=1.10.0 in /usr/local/lib/python3.10/dist-packages (from accelerate) (2.5.1+cu121)\n",
            "Requirement already satisfied: fsspec>=2023.5.0 in /usr/local/lib/python3.10/dist-packages (from huggingface-hub>=0.23.2->diffusers) (2024.10.0)\n",
            "Requirement already satisfied: typing-extensions>=3.7.4.3 in /usr/local/lib/python3.10/dist-packages (from huggingface-hub>=0.23.2->diffusers) (4.12.2)\n",
            "Requirement already satisfied: networkx in /usr/local/lib/python3.10/dist-packages (from torch>=1.10.0->accelerate) (3.4.2)\n",
            "Requirement already satisfied: jinja2 in /usr/local/lib/python3.10/dist-packages (from torch>=1.10.0->accelerate) (3.1.4)\n",
            "Requirement already satisfied: sympy==1.13.1 in /usr/local/lib/python3.10/dist-packages (from torch>=1.10.0->accelerate) (1.13.1)\n",
            "Requirement already satisfied: mpmath<1.4,>=1.1.0 in /usr/local/lib/python3.10/dist-packages (from sympy==1.13.1->torch>=1.10.0->accelerate) (1.3.0)\n",
            "Requirement already satisfied: zipp>=3.20 in /usr/local/lib/python3.10/dist-packages (from importlib-metadata->diffusers) (3.21.0)\n",
            "Requirement already satisfied: charset-normalizer<4,>=2 in /usr/local/lib/python3.10/dist-packages (from requests->diffusers) (3.4.0)\n",
            "Requirement already satisfied: idna<4,>=2.5 in /usr/local/lib/python3.10/dist-packages (from requests->diffusers) (3.10)\n",
            "Requirement already satisfied: urllib3<3,>=1.21.1 in /usr/local/lib/python3.10/dist-packages (from requests->diffusers) (2.2.3)\n",
            "Requirement already satisfied: certifi>=2017.4.17 in /usr/local/lib/python3.10/dist-packages (from requests->diffusers) (2024.12.14)\n",
            "Requirement already satisfied: MarkupSafe>=2.0 in /usr/local/lib/python3.10/dist-packages (from jinja2->torch>=1.10.0->accelerate) (3.0.2)\n"
          ]
        }
      ],
      "source": [
        "# 安裝必要的程式庫（如果未安裝）\n",
        "!pip install diffusers transformers accelerate"
      ]
    },
    {
      "cell_type": "code",
      "execution_count": null,
      "metadata": {
        "id": "UQ93AyMs_4Ca",
        "colab": {
          "base_uri": "https://localhost:8080/"
        },
        "outputId": "fea6f445-8b41-4ad2-85cc-1b256f2740ce"
      },
      "outputs": [
        {
          "output_type": "stream",
          "name": "stdout",
          "text": [
            "Requirement already satisfied: moviepy in /usr/local/lib/python3.10/dist-packages (1.0.3)\n",
            "Requirement already satisfied: imageio[ffmpeg] in /usr/local/lib/python3.10/dist-packages (2.36.1)\n",
            "Requirement already satisfied: numpy in /usr/local/lib/python3.10/dist-packages (from imageio[ffmpeg]) (1.26.4)\n",
            "Requirement already satisfied: pillow>=8.3.2 in /usr/local/lib/python3.10/dist-packages (from imageio[ffmpeg]) (11.0.0)\n",
            "Requirement already satisfied: imageio-ffmpeg in /usr/local/lib/python3.10/dist-packages (from imageio[ffmpeg]) (0.5.1)\n",
            "Requirement already satisfied: psutil in /usr/local/lib/python3.10/dist-packages (from imageio[ffmpeg]) (5.9.5)\n",
            "Requirement already satisfied: decorator<5.0,>=4.0.2 in /usr/local/lib/python3.10/dist-packages (from moviepy) (4.4.2)\n",
            "Requirement already satisfied: tqdm<5.0,>=4.11.2 in /usr/local/lib/python3.10/dist-packages (from moviepy) (4.67.1)\n",
            "Requirement already satisfied: requests<3.0,>=2.8.1 in /usr/local/lib/python3.10/dist-packages (from moviepy) (2.32.3)\n",
            "Requirement already satisfied: proglog<=1.0.0 in /usr/local/lib/python3.10/dist-packages (from moviepy) (0.1.10)\n",
            "Requirement already satisfied: setuptools in /usr/local/lib/python3.10/dist-packages (from imageio-ffmpeg->imageio[ffmpeg]) (75.1.0)\n",
            "Requirement already satisfied: charset-normalizer<4,>=2 in /usr/local/lib/python3.10/dist-packages (from requests<3.0,>=2.8.1->moviepy) (3.4.0)\n",
            "Requirement already satisfied: idna<4,>=2.5 in /usr/local/lib/python3.10/dist-packages (from requests<3.0,>=2.8.1->moviepy) (3.10)\n",
            "Requirement already satisfied: urllib3<3,>=1.21.1 in /usr/local/lib/python3.10/dist-packages (from requests<3.0,>=2.8.1->moviepy) (2.2.3)\n",
            "Requirement already satisfied: certifi>=2017.4.17 in /usr/local/lib/python3.10/dist-packages (from requests<3.0,>=2.8.1->moviepy) (2024.12.14)\n"
          ]
        }
      ],
      "source": [
        "!pip install imageio[ffmpeg] moviepy"
      ]
    },
    {
      "cell_type": "code",
      "execution_count": null,
      "metadata": {
        "id": "X3N7AXAgKjf7",
        "colab": {
          "base_uri": "https://localhost:8080/"
        },
        "outputId": "26828a55-9acf-4418-a7cf-95c3140339a1"
      },
      "outputs": [
        {
          "output_type": "stream",
          "name": "stdout",
          "text": [
            "Tue Dec 31 03:56:37 2024       \n",
            "+---------------------------------------------------------------------------------------+\n",
            "| NVIDIA-SMI 535.104.05             Driver Version: 535.104.05   CUDA Version: 12.2     |\n",
            "|-----------------------------------------+----------------------+----------------------+\n",
            "| GPU  Name                 Persistence-M | Bus-Id        Disp.A | Volatile Uncorr. ECC |\n",
            "| Fan  Temp   Perf          Pwr:Usage/Cap |         Memory-Usage | GPU-Util  Compute M. |\n",
            "|                                         |                      |               MIG M. |\n",
            "|=========================================+======================+======================|\n",
            "|   0  Tesla T4                       Off | 00000000:00:04.0 Off |                    0 |\n",
            "| N/A   46C    P0              27W /  70W |    387MiB / 15360MiB |      0%      Default |\n",
            "|                                         |                      |                  N/A |\n",
            "+-----------------------------------------+----------------------+----------------------+\n",
            "                                                                                         \n",
            "+---------------------------------------------------------------------------------------+\n",
            "| Processes:                                                                            |\n",
            "|  GPU   GI   CI        PID   Type   Process name                            GPU Memory |\n",
            "|        ID   ID                                                             Usage      |\n",
            "|=======================================================================================|\n",
            "+---------------------------------------------------------------------------------------+\n"
          ]
        }
      ],
      "source": [
        "!nvidia-smi"
      ]
    },
    {
      "cell_type": "code",
      "execution_count": null,
      "metadata": {
        "id": "wpsTpv7UKwCb",
        "colab": {
          "base_uri": "https://localhost:8080/"
        },
        "outputId": "f482212e-5bd3-4fbd-adc7-c498ec4ce3c3"
      },
      "outputs": [
        {
          "output_type": "stream",
          "name": "stdout",
          "text": [
            "nvcc: NVIDIA (R) Cuda compiler driver\n",
            "Copyright (c) 2005-2023 NVIDIA Corporation\n",
            "Built on Tue_Aug_15_22:02:13_PDT_2023\n",
            "Cuda compilation tools, release 12.2, V12.2.140\n",
            "Build cuda_12.2.r12.2/compiler.33191640_0\n"
          ]
        }
      ],
      "source": [
        "!nvcc -V"
      ]
    },
    {
      "cell_type": "code",
      "execution_count": null,
      "metadata": {
        "id": "eWEWEqwjnu11",
        "colab": {
          "base_uri": "https://localhost:8080/",
          "referenced_widgets": [
            "af834bfa94474adcb47d840b976842b1",
            "65c349e256a74e44a77bda0401430b1e",
            "07bd4cd2b0da46b5bd2c0ab95c15c7df",
            "d2ebbec7b6894a9996ab9b267c273320",
            "079c99845d02425ba44ef4f891cede3f",
            "a4df25be6ed6412aaa9dd667da03823f",
            "729b33530cc24332b43c9e98eb87fa4a",
            "56c4dd5f8a0a482185913db652273228",
            "76ee35b93db6446cb8c9cd4391c46fda",
            "f78f9ca057fb429d8f43f4a164e4637a",
            "2a25c63076a94978a5b0c5676957338e"
          ]
        },
        "outputId": "dde193f1-089b-45b3-c9c7-9f7b8adf1b46"
      },
      "outputs": [
        {
          "output_type": "stream",
          "name": "stderr",
          "text": [
            "The cache for model files in Transformers v4.22.0 has been updated. Migrating your old cache. This is a one-time only operation. You can interrupt this and resume the migration later on by calling `transformers.utils.move_cache()`.\n"
          ]
        },
        {
          "output_type": "display_data",
          "data": {
            "text/plain": [
              "0it [00:00, ?it/s]"
            ],
            "application/vnd.jupyter.widget-view+json": {
              "version_major": 2,
              "version_minor": 0,
              "model_id": "af834bfa94474adcb47d840b976842b1"
            }
          },
          "metadata": {}
        }
      ],
      "source": [
        "import torch\n",
        "\n",
        "from diffusers import StableVideoDiffusionPipeline\n",
        "from diffusers.utils import load_image, export_to_video"
      ]
    },
    {
      "cell_type": "code",
      "execution_count": null,
      "metadata": {
        "id": "ap3qNYL-oHRh"
      },
      "outputs": [],
      "source": [
        "pipe = StableVideoDiffusionPipeline.from_pretrained(\n",
        "    \"stabilityai/stable-video-diffusion-img2vid-xt\", torch_dtype=torch.float16, variant=\"fp16\"\n",
        ")\n",
        "pipe.enable_model_cpu_offload()"
      ]
    },
    {
      "cell_type": "code",
      "execution_count": null,
      "metadata": {
        "id": "-AIx5pmNAEXz"
      },
      "outputs": [],
      "source": [
        "from diffusers import StableDiffusionPipeline\n",
        "\n",
        "pipeline = StableDiffusionPipeline.from_pretrained(\n",
        "    \"CompVis/stable-diffusion-v1-4\",\n",
        "    use_auth_token=True,\n",
        "    torch_dtype=torch.float16,\n",
        ").to(\"cuda\")\n",
        "\n",
        "pipeline.enable_model_cpu_offload()\n"
      ]
    },
    {
      "cell_type": "markdown",
      "metadata": {
        "id": "w04Nvdqw8Cpd"
      },
      "source": [
        "#### Generate image"
      ]
    },
    {
      "cell_type": "code",
      "execution_count": null,
      "metadata": {
        "id": "JdJ3SHaeuruD"
      },
      "outputs": [],
      "source": [
        "image = pipeline(prompt).images[0]  # 從列表中取出生成的第一張影像\n",
        "\n",
        "# 將影像儲存為檔案\n",
        "output_image_path = \"example.jpg\"  # 儲存的檔案名稱\n",
        "image.save(output_image_path)\n",
        "\n",
        "print(f\"Image exported successfully to {output_image_path}\")"
      ]
    },
    {
      "cell_type": "markdown",
      "source": [
        "#### Generate video"
      ],
      "metadata": {
        "id": "5CpMS4HOv9kW"
      }
    },
    {
      "cell_type": "code",
      "execution_count": null,
      "metadata": {
        "id": "5hPF6sn_wiu3"
      },
      "outputs": [],
      "source": [
        "video_path = \"generated_video.mp4\"\n",
        "generator = torch.manual_seed(42)\n",
        "frames = pipe(image, decode_chunk_size = 8, generator = generator, num_frames = 30, motion_bucket_id = 90, noise_aug_strength = 0.05).frames[0]"
      ]
    },
    {
      "cell_type": "code",
      "execution_count": null,
      "metadata": {
        "id": "GfjXRybywpnh"
      },
      "outputs": [],
      "source": [
        "export_to_video(frames, video_path, fps = 10)"
      ]
    },
    {
      "cell_type": "code",
      "execution_count": null,
      "metadata": {
        "id": "RuVLLtcSALvJ"
      },
      "outputs": [],
      "source": [
        "from google.colab import files\n",
        "\n",
        "files.download(video_path)"
      ]
    },
    {
      "cell_type": "markdown",
      "source": [
        "## 4.音訊影片結合"
      ],
      "metadata": {
        "id": "J6Bx40Wzb_1N"
      }
    },
    {
      "cell_type": "code",
      "source": [
        "import os\n",
        "from google.colab import drive\n",
        "\n",
        "drive.mount('/content/drive', force_remount=True)\n",
        "\n",
        "# 設定音訊檔案路徑和影片檔案名稱\n",
        "audio_path = '/content/drive/My Drive/多媒體_期末報告/test_audio/'\n",
        "video_file = \"generated_video.mp4\"\n",
        "output_file = \"output_with_audio.mp4\"  # 輸出的影片名稱\n",
        "\n",
        "# 確保資料夾中只有一個音訊檔案，抓取 .wav 檔案\n",
        "audio_files = [f for f in os.listdir(audio_path) if f.endswith('.wav')]\n",
        "\n",
        "if len(audio_files) == 1:\n",
        "    # 取得音訊完整路徑，並處理特殊字元\n",
        "    audio_file = os.path.abspath(os.path.join(audio_path, audio_files[0]))\n",
        "    print(f\"找到音訊檔案: {audio_file}\")\n",
        "else:\n",
        "    raise FileNotFoundError(\"資料夾中沒有 .wav 檔案或存在多個 .wav 檔案，請確認資料夾內容！\")\n",
        "\n",
        "# 建立安全的 FFmpeg 命令\n",
        "ffmpeg_command = f'ffmpeg -i \"{video_file}\" -i \"{audio_file}\" -c:v copy -c:a aac -strict experimental -shortest \"{output_file}\"'\n",
        "\n",
        "# 打印出執行的 FFmpeg 命令\n",
        "print(f\"執行的命令: {ffmpeg_command}\")\n",
        "\n",
        "# 執行 FFmpeg 命令\n",
        "os.system(ffmpeg_command)\n",
        "\n",
        "# 確認輸出檔案是否成功生成\n",
        "if os.path.exists(output_file):\n",
        "    print(f\"影片與音訊已成功結合，輸出檔案: {output_file}\")\n",
        "else:\n",
        "    print(\"影片與音訊結合失敗！\")\n"
      ],
      "metadata": {
        "id": "BzLqStRgp5TI"
      },
      "execution_count": null,
      "outputs": []
    }
  ],
  "metadata": {
    "accelerator": "GPU",
    "colab": {
      "gpuType": "T4",
      "provenance": [],
      "include_colab_link": true
    },
    "kernelspec": {
      "display_name": "Python 3",
      "name": "python3"
    },
    "language_info": {
      "name": "python"
    },
    "widgets": {
      "application/vnd.jupyter.widget-state+json": {
        "af834bfa94474adcb47d840b976842b1": {
          "model_module": "@jupyter-widgets/controls",
          "model_name": "HBoxModel",
          "model_module_version": "1.5.0",
          "state": {
            "_dom_classes": [],
            "_model_module": "@jupyter-widgets/controls",
            "_model_module_version": "1.5.0",
            "_model_name": "HBoxModel",
            "_view_count": null,
            "_view_module": "@jupyter-widgets/controls",
            "_view_module_version": "1.5.0",
            "_view_name": "HBoxView",
            "box_style": "",
            "children": [
              "IPY_MODEL_65c349e256a74e44a77bda0401430b1e",
              "IPY_MODEL_07bd4cd2b0da46b5bd2c0ab95c15c7df",
              "IPY_MODEL_d2ebbec7b6894a9996ab9b267c273320"
            ],
            "layout": "IPY_MODEL_079c99845d02425ba44ef4f891cede3f"
          }
        },
        "65c349e256a74e44a77bda0401430b1e": {
          "model_module": "@jupyter-widgets/controls",
          "model_name": "HTMLModel",
          "model_module_version": "1.5.0",
          "state": {
            "_dom_classes": [],
            "_model_module": "@jupyter-widgets/controls",
            "_model_module_version": "1.5.0",
            "_model_name": "HTMLModel",
            "_view_count": null,
            "_view_module": "@jupyter-widgets/controls",
            "_view_module_version": "1.5.0",
            "_view_name": "HTMLView",
            "description": "",
            "description_tooltip": null,
            "layout": "IPY_MODEL_a4df25be6ed6412aaa9dd667da03823f",
            "placeholder": "​",
            "style": "IPY_MODEL_729b33530cc24332b43c9e98eb87fa4a",
            "value": ""
          }
        },
        "07bd4cd2b0da46b5bd2c0ab95c15c7df": {
          "model_module": "@jupyter-widgets/controls",
          "model_name": "FloatProgressModel",
          "model_module_version": "1.5.0",
          "state": {
            "_dom_classes": [],
            "_model_module": "@jupyter-widgets/controls",
            "_model_module_version": "1.5.0",
            "_model_name": "FloatProgressModel",
            "_view_count": null,
            "_view_module": "@jupyter-widgets/controls",
            "_view_module_version": "1.5.0",
            "_view_name": "ProgressView",
            "bar_style": "success",
            "description": "",
            "description_tooltip": null,
            "layout": "IPY_MODEL_56c4dd5f8a0a482185913db652273228",
            "max": 1,
            "min": 0,
            "orientation": "horizontal",
            "style": "IPY_MODEL_76ee35b93db6446cb8c9cd4391c46fda",
            "value": 0
          }
        },
        "d2ebbec7b6894a9996ab9b267c273320": {
          "model_module": "@jupyter-widgets/controls",
          "model_name": "HTMLModel",
          "model_module_version": "1.5.0",
          "state": {
            "_dom_classes": [],
            "_model_module": "@jupyter-widgets/controls",
            "_model_module_version": "1.5.0",
            "_model_name": "HTMLModel",
            "_view_count": null,
            "_view_module": "@jupyter-widgets/controls",
            "_view_module_version": "1.5.0",
            "_view_name": "HTMLView",
            "description": "",
            "description_tooltip": null,
            "layout": "IPY_MODEL_f78f9ca057fb429d8f43f4a164e4637a",
            "placeholder": "​",
            "style": "IPY_MODEL_2a25c63076a94978a5b0c5676957338e",
            "value": " 0/0 [00:00&lt;?, ?it/s]"
          }
        },
        "079c99845d02425ba44ef4f891cede3f": {
          "model_module": "@jupyter-widgets/base",
          "model_name": "LayoutModel",
          "model_module_version": "1.2.0",
          "state": {
            "_model_module": "@jupyter-widgets/base",
            "_model_module_version": "1.2.0",
            "_model_name": "LayoutModel",
            "_view_count": null,
            "_view_module": "@jupyter-widgets/base",
            "_view_module_version": "1.2.0",
            "_view_name": "LayoutView",
            "align_content": null,
            "align_items": null,
            "align_self": null,
            "border": null,
            "bottom": null,
            "display": null,
            "flex": null,
            "flex_flow": null,
            "grid_area": null,
            "grid_auto_columns": null,
            "grid_auto_flow": null,
            "grid_auto_rows": null,
            "grid_column": null,
            "grid_gap": null,
            "grid_row": null,
            "grid_template_areas": null,
            "grid_template_columns": null,
            "grid_template_rows": null,
            "height": null,
            "justify_content": null,
            "justify_items": null,
            "left": null,
            "margin": null,
            "max_height": null,
            "max_width": null,
            "min_height": null,
            "min_width": null,
            "object_fit": null,
            "object_position": null,
            "order": null,
            "overflow": null,
            "overflow_x": null,
            "overflow_y": null,
            "padding": null,
            "right": null,
            "top": null,
            "visibility": null,
            "width": null
          }
        },
        "a4df25be6ed6412aaa9dd667da03823f": {
          "model_module": "@jupyter-widgets/base",
          "model_name": "LayoutModel",
          "model_module_version": "1.2.0",
          "state": {
            "_model_module": "@jupyter-widgets/base",
            "_model_module_version": "1.2.0",
            "_model_name": "LayoutModel",
            "_view_count": null,
            "_view_module": "@jupyter-widgets/base",
            "_view_module_version": "1.2.0",
            "_view_name": "LayoutView",
            "align_content": null,
            "align_items": null,
            "align_self": null,
            "border": null,
            "bottom": null,
            "display": null,
            "flex": null,
            "flex_flow": null,
            "grid_area": null,
            "grid_auto_columns": null,
            "grid_auto_flow": null,
            "grid_auto_rows": null,
            "grid_column": null,
            "grid_gap": null,
            "grid_row": null,
            "grid_template_areas": null,
            "grid_template_columns": null,
            "grid_template_rows": null,
            "height": null,
            "justify_content": null,
            "justify_items": null,
            "left": null,
            "margin": null,
            "max_height": null,
            "max_width": null,
            "min_height": null,
            "min_width": null,
            "object_fit": null,
            "object_position": null,
            "order": null,
            "overflow": null,
            "overflow_x": null,
            "overflow_y": null,
            "padding": null,
            "right": null,
            "top": null,
            "visibility": null,
            "width": null
          }
        },
        "729b33530cc24332b43c9e98eb87fa4a": {
          "model_module": "@jupyter-widgets/controls",
          "model_name": "DescriptionStyleModel",
          "model_module_version": "1.5.0",
          "state": {
            "_model_module": "@jupyter-widgets/controls",
            "_model_module_version": "1.5.0",
            "_model_name": "DescriptionStyleModel",
            "_view_count": null,
            "_view_module": "@jupyter-widgets/base",
            "_view_module_version": "1.2.0",
            "_view_name": "StyleView",
            "description_width": ""
          }
        },
        "56c4dd5f8a0a482185913db652273228": {
          "model_module": "@jupyter-widgets/base",
          "model_name": "LayoutModel",
          "model_module_version": "1.2.0",
          "state": {
            "_model_module": "@jupyter-widgets/base",
            "_model_module_version": "1.2.0",
            "_model_name": "LayoutModel",
            "_view_count": null,
            "_view_module": "@jupyter-widgets/base",
            "_view_module_version": "1.2.0",
            "_view_name": "LayoutView",
            "align_content": null,
            "align_items": null,
            "align_self": null,
            "border": null,
            "bottom": null,
            "display": null,
            "flex": null,
            "flex_flow": null,
            "grid_area": null,
            "grid_auto_columns": null,
            "grid_auto_flow": null,
            "grid_auto_rows": null,
            "grid_column": null,
            "grid_gap": null,
            "grid_row": null,
            "grid_template_areas": null,
            "grid_template_columns": null,
            "grid_template_rows": null,
            "height": null,
            "justify_content": null,
            "justify_items": null,
            "left": null,
            "margin": null,
            "max_height": null,
            "max_width": null,
            "min_height": null,
            "min_width": null,
            "object_fit": null,
            "object_position": null,
            "order": null,
            "overflow": null,
            "overflow_x": null,
            "overflow_y": null,
            "padding": null,
            "right": null,
            "top": null,
            "visibility": null,
            "width": "20px"
          }
        },
        "76ee35b93db6446cb8c9cd4391c46fda": {
          "model_module": "@jupyter-widgets/controls",
          "model_name": "ProgressStyleModel",
          "model_module_version": "1.5.0",
          "state": {
            "_model_module": "@jupyter-widgets/controls",
            "_model_module_version": "1.5.0",
            "_model_name": "ProgressStyleModel",
            "_view_count": null,
            "_view_module": "@jupyter-widgets/base",
            "_view_module_version": "1.2.0",
            "_view_name": "StyleView",
            "bar_color": null,
            "description_width": ""
          }
        },
        "f78f9ca057fb429d8f43f4a164e4637a": {
          "model_module": "@jupyter-widgets/base",
          "model_name": "LayoutModel",
          "model_module_version": "1.2.0",
          "state": {
            "_model_module": "@jupyter-widgets/base",
            "_model_module_version": "1.2.0",
            "_model_name": "LayoutModel",
            "_view_count": null,
            "_view_module": "@jupyter-widgets/base",
            "_view_module_version": "1.2.0",
            "_view_name": "LayoutView",
            "align_content": null,
            "align_items": null,
            "align_self": null,
            "border": null,
            "bottom": null,
            "display": null,
            "flex": null,
            "flex_flow": null,
            "grid_area": null,
            "grid_auto_columns": null,
            "grid_auto_flow": null,
            "grid_auto_rows": null,
            "grid_column": null,
            "grid_gap": null,
            "grid_row": null,
            "grid_template_areas": null,
            "grid_template_columns": null,
            "grid_template_rows": null,
            "height": null,
            "justify_content": null,
            "justify_items": null,
            "left": null,
            "margin": null,
            "max_height": null,
            "max_width": null,
            "min_height": null,
            "min_width": null,
            "object_fit": null,
            "object_position": null,
            "order": null,
            "overflow": null,
            "overflow_x": null,
            "overflow_y": null,
            "padding": null,
            "right": null,
            "top": null,
            "visibility": null,
            "width": null
          }
        },
        "2a25c63076a94978a5b0c5676957338e": {
          "model_module": "@jupyter-widgets/controls",
          "model_name": "DescriptionStyleModel",
          "model_module_version": "1.5.0",
          "state": {
            "_model_module": "@jupyter-widgets/controls",
            "_model_module_version": "1.5.0",
            "_model_name": "DescriptionStyleModel",
            "_view_count": null,
            "_view_module": "@jupyter-widgets/base",
            "_view_module_version": "1.2.0",
            "_view_name": "StyleView",
            "description_width": ""
          }
        }
      }
    }
  },
  "nbformat": 4,
  "nbformat_minor": 0
}