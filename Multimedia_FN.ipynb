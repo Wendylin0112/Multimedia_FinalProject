{
  "cells": [
    {
      "cell_type": "markdown",
      "metadata": {
        "id": "view-in-github",
        "colab_type": "text"
      },
      "source": [
        "<a href=\"https://colab.research.google.com/github/Wendylin0112/Multimedia_Final_Project/blob/main/Multimedia_FN.ipynb\" target=\"_parent\"><img src=\"https://colab.research.google.com/assets/colab-badge.svg\" alt=\"Open In Colab\"/></a>"
      ]
    },
    {
      "cell_type": "markdown",
      "metadata": {
        "id": "s23xKbNG6V2F"
      },
      "source": [
        "## 1.音訊處理與分類"
      ]
    },
    {
      "cell_type": "code",
      "source": [
        "# 安裝必要的程式庫（如果未安裝）\n",
        "!pip install librosa tensorflow tensorflow_hub pandas tensorflow_io"
      ],
      "metadata": {
        "id": "cL12NpMrA8G7"
      },
      "execution_count": null,
      "outputs": []
    },
    {
      "cell_type": "code",
      "source": [
        "import librosa\n",
        "import tensorflow_hub as hub\n",
        "import tensorflow as tf\n",
        "import pandas as pd\n",
        "import numpy as np\n",
        "import os\n",
        "import json\n",
        "\n",
        "# 掛載 Google Drive\n",
        "from google.colab import drive\n",
        "drive.mount('/content/drive')\n",
        "\n",
        "# 加載 YAMNet 模型\n",
        "model = hub.load('https://tfhub.dev/google/yamnet/1')\n",
        "\n",
        "# 動態篩選類別索引\n",
        "class_map_path = model.class_map_path().numpy().decode('utf-8')\n",
        "class_map = pd.read_csv(class_map_path)\n",
        "\n",
        "# 篩選包含 \"Rain\", \"Ocean\", \"Stream\", \"Train\", \"Rain on surface\", \"Writing\",\"Insect\"的類別\n",
        "keywords = [\"Rain\", \"Ocean\", \"Stream\",\"Train\", \"Writing\", \"Insect\"]\n",
        "filtered_classes = class_map[class_map['display_name'].str.contains('|'.join(keywords), case=False)]\n",
        "\n",
        "# 提取篩選結果\n",
        "selected_indices = filtered_classes['index'].tolist()\n",
        "class_names = filtered_classes['display_name'].tolist()\n",
        "detailed_labels = {\n",
        "    \"Rain\": \"雨聲\",\n",
        "    \"Ocean\": \"海洋聲\",\n",
        "    \"Stream\": \"溪流聲\",\n",
        "    \"Train\": \"火車聲\",\n",
        "    \"Writing\": \"寫字聲\",\n",
        "    \"Insect\": \"昆蟲鳴聲\"\n",
        "}\n",
        "\n",
        "print(f\"Selected indices: {selected_indices}\")\n",
        "print(f\"Class names: {class_names}\")\n",
        "\n",
        "def classify_audio(audio_file):\n",
        "    \"\"\"\n",
        "    使用 YAMNet 模型對單個音檔進行分類\n",
        "    \"\"\"\n",
        "    try:\n",
        "        # 加載音檔並重採樣到 16kHz\n",
        "        waveform, _ = librosa.load(audio_file, sr=16000)\n",
        "\n",
        "        # 使用 YAMNet 進行分類\n",
        "        scores, _, _ = model(waveform)\n",
        "        scores_np = scores.numpy()\n",
        "\n",
        "        # 檢查模型輸出\n",
        "        if scores_np.ndim == 0 or scores_np.size == 0:\n",
        "            raise ValueError(f\"模型未返回有效的分類分數，音檔路徑: {audio_file}\")\n",
        "\n",
        "        # 過濾選定類別的分數\n",
        "        filtered_scores = scores_np[:, selected_indices]\n",
        "        mean_scores = filtered_scores.mean(axis=0)\n",
        "\n",
        "        # 獲取分類索引\n",
        "        base_label = class_names[np.argmax(mean_scores)]\n",
        "\n",
        "        # 返回對應的中文標籤\n",
        "        return detailed_labels[base_label]\n",
        "    except Exception as e:\n",
        "        print(f\"Error processing file {audio_file}: {e}\")\n",
        "        return \"分類失敗\"\n",
        "\n",
        "def classify_audio_folder(folder_path):\n",
        "    \"\"\"\n",
        "    對資料夾中的所有音檔進行分類\n",
        "    \"\"\"\n",
        "    try:\n",
        "        # 獲取所有音檔\n",
        "        audio_files = [os.path.join(folder_path, f) for f in os.listdir(folder_path) if f.endswith('.wav')]\n",
        "\n",
        "        # 存儲分類結果\n",
        "        results = {}\n",
        "        for file in audio_files:\n",
        "            label = classify_audio(file)\n",
        "            results[file] = label\n",
        "            print(f\"File: {file} -> Label: {label}\")\n",
        "\n",
        "        return results\n",
        "    except Exception as e:\n",
        "        print(f\"Error processing folder {folder_path}: {e}\")\n",
        "        return {}\n",
        "\n",
        "# 測試 voice 資料夾中的所有音檔\n",
        "audio_folder = '/content/drive/My Drive/多媒體_期末報告/test_audio/'\n",
        "results = classify_audio_folder(audio_folder)\n",
        "\n",
        "# 打印分類結果\n",
        "print(\"\\n分類結果：\")\n",
        "for file, label in results.items():\n",
        "    print(f\"{file}: {label}\")"
      ],
      "metadata": {
        "id": "RF2U_U7gA-78"
      },
      "execution_count": null,
      "outputs": []
    },
    {
      "cell_type": "markdown",
      "metadata": {
        "id": "ciMgkwFf6rsD"
      },
      "source": [
        "## 2.生成對應的文本"
      ]
    },
    {
      "cell_type": "markdown",
      "metadata": {
        "id": "Ivo8Shak7D22"
      },
      "source": [
        "1. **下雨（大雨）**\n",
        "背景：城市街道。\n",
        "聚焦生成：大雨的雨滴，使用刮畫法，雨滴落下的軌跡非常明顯。砸在地上、屋簷上會濺起小水花。\n",
        "天空顏色為淺灰色。\n",
        "只有下雨部分為動態，其餘皆保持靜態。\n",
        "\n",
        "2. **溪流**\n",
        "背景：靜謐的森林，溪流中有石頭。\n",
        "必須生成：潺潺流水。\n",
        "可隨機生成（也可無）：石頭上的青苔、溪水中的樹葉。\n",
        "只有潺潺流水須為動態，其他皆為靜態。\n",
        "\n",
        "3. **海浪**\n",
        "背景：夜晚海邊的沙灘。\n",
        "聚焦：翻騰的海浪。\n",
        "可隨機生成（也可無）：沙灘上海星、天上繁星、沙灘上有腳印及城堡。\n",
        "影片只需讓聚焦部分動態化，其他皆保持靜態。\n",
        "\n",
        "4. **火車**\n",
        "背景: 室內月台，黃光壁燈，月台椅子\n",
        "聚焦: 行駛中火車。\n",
        "影片只須讓聚焦部分動態化，其他皆保持靜態。\n",
        "\n",
        "5. **writing**\n",
        "背景: 圖書館，第一視角寫字，桌上有書，手握著筆正在寫字。\n",
        "聚焦: 手中的筆。\n",
        "影片只須讓聚焦部分動態化，其他皆保持靜態。\n",
        "\n",
        "6. **chirping**\n",
        "背景：靜謐的森林，有少許陽光從樹葉間隙射入\n",
        "必須生成：小昆蟲（正在進行跳、飛等動作）、小鳥（正在飛）。\n",
        "可隨機生成（也可無）：兔子、狐狸、小鹿、浣熊、松鼠（靜態、動態皆可）\n",
        "影片只需讓出現的生物動態化，其他皆保持靜態"
      ]
    },
    {
      "cell_type": "markdown",
      "metadata": {
        "id": "yIYKHb8b8OZG"
      },
      "source": [
        "1. **Rain** City street is heavily raining with obvious rainfalls and small splashes when hits the ground. Sky is light gray. Only the rainfalls should be dynamic,else remains static.\n",
        "\n",
        "2. **Stream** A stream containing rocks in the forest. Randomly creates moss on the rocks, leaves in the stream. Gently flowing water has to be dynamic, else remains static.\n",
        "\n",
        "3. **Waves** A nighttime beach with rolling waves. Randomly creates small starfish on the beach, stars in the sky, footprints on the beach. Only the waves dynamic,else remains static.\n",
        "\n",
        "4. **Train** Indoor platform with yellow-lit wall lamps and platform benches. A train is passing through the platform. Only the train is moving, else remains static.\n",
        "\n",
        "5. **Writing** First-person perspective. I'm at a library. A book is lying on the desk, and I'm writing with a pen holding in my hands. Only the pen is moving ,else remains static.\n",
        "\n",
        "6. **Insects** Small insects and birds are active in a forest with a few sunbeams filtering through the leaves. Randomly create lively rabbits, foxes, deer, raccoons, squirrels in the forest. Only the creatures are dynamic, else remains static."
      ]
    },
    {
      "cell_type": "markdown",
      "source": [
        "### 2-5. 將分類連結對應的prompt\n"
      ],
      "metadata": {
        "id": "EfmeVjA0EYk8"
      }
    },
    {
      "source": [
        "for file, label in results.items():\n",
        "    if label == \"雨聲\":\n",
        "        prompt = \"City street is heavily raining with obvious rainfalls and small splashes when hits the ground. Sky is light gray. Only the rainfalls should be dynamic,else remains static.\"\n",
        "    elif label == \"溪流聲\":\n",
        "        prompt = \"A stream containing rocks in the forest. Randomly creates moss on the rocks, leaves in the stream. Gently flowing water has to be dynamic, else remains static.\"\n",
        "    elif label == \"海洋聲\":\n",
        "        prompt = \"A nighttime beach with rolling waves. Randomly creates small starfish on the beach, stars in the sky, footprints on the beach. Only the waves dynamic,else remains static.\"\n",
        "    elif label == \"火車聲\":\n",
        "        prompt = \"Indoor platform with yellow-lit wall lamps and platform benches. A train is passing through the platform. Only the train is moving, else remains static.\"\n",
        "    elif label == \"寫字聲\":\n",
        "        prompt = \"First-person perspective. I'm at a library. A book is lying on the desk, and I'm writing with a pen holding in my hands. Only the pen is moving ,else remains static.\"\n",
        "    else:\n",
        "        prompt = \"Small insects and birds are active in a forest with a few sunbeams filtering through the leaves. Randomly create lively rabbits, foxes, deer, raccoons, squirrels in the forest. Only the creatures are dynamic, else remains static.\"\n",
        "    print(f\"File: {file}, Label: {label}, Prompt: {prompt}\") # Added print statement to verify that this code works correctly"
      ],
      "cell_type": "code",
      "metadata": {
        "id": "USqAR7wjKrHS"
      },
      "execution_count": null,
      "outputs": []
    },
    {
      "cell_type": "markdown",
      "metadata": {
        "id": "FgNWEFXC7lk4"
      },
      "source": [
        "## 3.根據文本產生對應的影片"
      ]
    },
    {
      "cell_type": "code",
      "execution_count": null,
      "metadata": {
        "id": "AT9MxEqNI6aB"
      },
      "outputs": [],
      "source": [
        "# 安裝必要的程式庫（如果未安裝）\n",
        "!pip install diffusers transformers accelerate"
      ]
    },
    {
      "cell_type": "code",
      "execution_count": null,
      "metadata": {
        "id": "UQ93AyMs_4Ca"
      },
      "outputs": [],
      "source": [
        "!pip install imageio[ffmpeg] moviepy"
      ]
    },
    {
      "cell_type": "code",
      "execution_count": null,
      "metadata": {
        "id": "X3N7AXAgKjf7"
      },
      "outputs": [],
      "source": [
        "!nvidia-smi"
      ]
    },
    {
      "cell_type": "code",
      "execution_count": null,
      "metadata": {
        "id": "wpsTpv7UKwCb"
      },
      "outputs": [],
      "source": [
        "!nvcc -V"
      ]
    },
    {
      "cell_type": "code",
      "execution_count": null,
      "metadata": {
        "id": "eWEWEqwjnu11"
      },
      "outputs": [],
      "source": [
        "import torch\n",
        "\n",
        "from diffusers import StableVideoDiffusionPipeline\n",
        "from diffusers.utils import load_image, export_to_video"
      ]
    },
    {
      "cell_type": "code",
      "execution_count": null,
      "metadata": {
        "id": "ap3qNYL-oHRh"
      },
      "outputs": [],
      "source": [
        "pipe = StableVideoDiffusionPipeline.from_pretrained(\n",
        "    \"stabilityai/stable-video-diffusion-img2vid-xt\", torch_dtype=torch.float16, variant=\"fp16\"\n",
        ")\n",
        "pipe.enable_model_cpu_offload()"
      ]
    },
    {
      "cell_type": "code",
      "execution_count": null,
      "metadata": {
        "id": "-AIx5pmNAEXz"
      },
      "outputs": [],
      "source": [
        "from diffusers import StableDiffusionPipeline\n",
        "\n",
        "pipeline = StableDiffusionPipeline.from_pretrained(\n",
        "    \"CompVis/stable-diffusion-v1-4\",\n",
        "    use_auth_token=True,\n",
        "    torch_dtype=torch.float16,\n",
        ").to(\"cuda\")\n",
        "\n",
        "pipeline.enable_model_cpu_offload()\n"
      ]
    },
    {
      "cell_type": "markdown",
      "metadata": {
        "id": "w04Nvdqw8Cpd"
      },
      "source": [
        "#### Generate image"
      ]
    },
    {
      "cell_type": "code",
      "execution_count": null,
      "metadata": {
        "id": "JdJ3SHaeuruD"
      },
      "outputs": [],
      "source": [
        "image = pipeline(prompt).images[0]  # 從列表中取出生成的第一張影像\n",
        "\n",
        "# 將影像儲存為檔案\n",
        "output_image_path = \"example.jpg\"  # 儲存的檔案名稱\n",
        "image.save(output_image_path)\n",
        "\n",
        "print(f\"Image exported successfully to {output_image_path}\")"
      ]
    },
    {
      "cell_type": "markdown",
      "source": [
        "#### Generate video"
      ],
      "metadata": {
        "id": "5CpMS4HOv9kW"
      }
    },
    {
      "cell_type": "code",
      "execution_count": null,
      "metadata": {
        "id": "5hPF6sn_wiu3"
      },
      "outputs": [],
      "source": [
        "video_path = \"generated_video.mp4\"\n",
        "generator = torch.manual_seed(42)\n",
        "frames = pipe(image, decode_chunk_size = 8, generator = generator, num_frames = 30, motion_bucket_id = 90, noise_aug_strength = 0.05).frames[0]"
      ]
    },
    {
      "cell_type": "code",
      "execution_count": null,
      "metadata": {
        "id": "GfjXRybywpnh"
      },
      "outputs": [],
      "source": [
        "export_to_video(frames, video_path, fps = 10)"
      ]
    },
    {
      "cell_type": "markdown",
      "source": [
        "## 4.音訊影片結合"
      ],
      "metadata": {
        "id": "J6Bx40Wzb_1N"
      }
    },
    {
      "cell_type": "code",
      "source": [
        "import os\n",
        "from google.colab import drive\n",
        "\n",
        "drive.mount('/content/drive', force_remount=True)\n",
        "\n",
        "# 設定音訊檔案路徑和影片檔案名稱\n",
        "audio_path = '/content/drive/My Drive/多媒體_期末報告/test_audio/'\n",
        "video_file = \"generated_video.mp4\"\n",
        "output_file = \"output_with_audio.mp4\"  # 輸出的影片名稱\n",
        "\n",
        "# 確保資料夾中只有一個音訊檔案，抓取 .wav 檔案\n",
        "audio_files = [f for f in os.listdir(audio_path) if f.endswith('.wav')]\n",
        "\n",
        "if len(audio_files) == 1:\n",
        "    # 取得音訊完整路徑，並處理特殊字元\n",
        "    audio_file = os.path.abspath(os.path.join(audio_path, audio_files[0]))\n",
        "    print(f\"找到音訊檔案: {audio_file}\")\n",
        "else:\n",
        "    raise FileNotFoundError(\"資料夾中沒有 .wav 檔案或存在多個 .wav 檔案，請確認資料夾內容！\")\n",
        "\n",
        "# 建立安全的 FFmpeg 命令\n",
        "ffmpeg_command = f'ffmpeg -i \"{video_file}\" -i \"{audio_file}\" -c:v copy -c:a aac -strict experimental -shortest \"{output_file}\"'\n",
        "\n",
        "# 打印出執行的 FFmpeg 命令\n",
        "print(f\"執行的命令: {ffmpeg_command}\")\n",
        "\n",
        "# 執行 FFmpeg 命令\n",
        "os.system(ffmpeg_command)\n",
        "\n",
        "# 確認輸出檔案是否成功生成\n",
        "if os.path.exists(output_file):\n",
        "    print(f\"影片與音訊已成功結合，輸出檔案: {output_file}\")\n",
        "else:\n",
        "    print(\"影片與音訊結合失敗！\")\n"
      ],
      "metadata": {
        "id": "BzLqStRgp5TI"
      },
      "execution_count": null,
      "outputs": []
    },
    {
      "cell_type": "code",
      "source": [
        "# 將影片下載下來\n",
        "from google.colab import files\n",
        "\n",
        "files.download(output_file)"
      ],
      "metadata": {
        "id": "tYJPlMsMSUWm"
      },
      "execution_count": null,
      "outputs": []
    }
  ],
  "metadata": {
    "accelerator": "GPU",
    "colab": {
      "gpuType": "T4",
      "provenance": [],
      "include_colab_link": true
    },
    "kernelspec": {
      "display_name": "Python 3",
      "name": "python3"
    },
    "language_info": {
      "name": "python"
    }
  },
  "nbformat": 4,
  "nbformat_minor": 0
}